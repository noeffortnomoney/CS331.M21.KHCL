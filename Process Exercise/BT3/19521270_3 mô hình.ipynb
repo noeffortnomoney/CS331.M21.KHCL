{
  "nbformat": 4,
  "nbformat_minor": 0,
  "metadata": {
    "colab": {
      "name": "19521270.ipynb",
      "provenance": []
    },
    "kernelspec": {
      "name": "python3",
      "display_name": "Python 3"
    },
    "language_info": {
      "name": "python"
    }
  },
  "cells": [
    {
      "cell_type": "markdown",
      "source": [
        "Họ và tên: Trương Quốc Bình\n",
        "\n",
        "MSSV: 19521270\n",
        "\n",
        "Bài tập: BT3-Cài đặt Linear Regression, Logistic Regression, Softmax Regression với Tensorflow/Pytorch "
      ],
      "metadata": {
        "id": "FczjEGo65u1m"
      }
    },
    {
      "cell_type": "markdown",
      "source": [
        "# **1. Logistic_Regression**"
      ],
      "metadata": {
        "id": "QBOoN33D6CO4"
      }
    },
    {
      "cell_type": "code",
      "execution_count": null,
      "metadata": {
        "id": "gFU8AFXflMfY",
        "colab": {
          "base_uri": "https://localhost:8080/",
          "height": 281
        },
        "outputId": "c359cf15-e960-4f37-d2f5-b2710ebc778d"
      },
      "outputs": [
        {
          "output_type": "display_data",
          "data": {
            "text/plain": [
              "<Figure size 432x288 with 1 Axes>"
            ],
            "image/png": "[encoded data removed]"
          },
          "metadata": {
            "needs_background": "light"
          }
        }
      ],
      "source": [
        "import numpy as np\n",
        "import matplotlib.pyplot as plt\n",
        "\n",
        "def sigmoid(z):\n",
        "\treturn 1 / (1 + np.exp( - z))\n",
        "\n",
        "plt.plot(np.arange(-5, 5, 0.1), sigmoid(np.arange(-5, 5, 0.1)))\n",
        "plt.title('Visualization of the Sigmoid Function')\n",
        "\n",
        "plt.show()\n"
      ]
    },
    {
      "cell_type": "code",
      "source": [
        "# importing modules\n",
        "import numpy as np\n",
        "import pandas as pd\n",
        "import tensorflow as tf\n",
        "import matplotlib.pyplot as plt\n",
        "from sklearn.preprocessing import OneHotEncoder\n",
        "import tensorflow.compat.v1 as tf"
      ],
      "metadata": {
        "id": "XgmQfTeIV2np"
      },
      "execution_count": null,
      "outputs": []
    },
    {
      "cell_type": "code",
      "source": [
        "data = pd.read_csv('dataset.csv', header = None)\n",
        "print(\"Data Shape:\", data.shape)\n",
        "\n",
        "print(data.head())\n"
      ],
      "metadata": {
        "id": "fr6Mb3cBlcb5",
        "colab": {
          "base_uri": "https://localhost:8080/"
        },
        "outputId": "eccfe5fc-8637-428e-b668-820a4226385b"
      },
      "execution_count": null,
      "outputs": [
        {
          "output_type": "stream",
          "name": "stdout",
          "text": [
            "Data Shape: (100, 4)\n",
            "   0    1    2  3\n",
            "0  0  5.1  3.5  1\n",
            "1  1  4.9  3.0  1\n",
            "2  2  4.7  3.2  1\n",
            "3  3  4.6  3.1  1\n",
            "4  4  5.0  3.6  1\n"
          ]
        }
      ]
    },
    {
      "cell_type": "code",
      "source": [
        "# Feature Matrix\n",
        "x_orig = data.iloc[:, 1:-1].values\n",
        "\n",
        "# Data labels\n",
        "y_orig = data.iloc[:, -1:].values\n",
        "\n",
        "print(\"Shape of Feature Matrix:\", x_orig.shape)\n",
        "print(\"Shape Label Vector:\", y_orig.shape)\n"
      ],
      "metadata": {
        "id": "p61VV6v9livg",
        "colab": {
          "base_uri": "https://localhost:8080/"
        },
        "outputId": "6b302ed3-547f-4abd-9e76-e9631a1705fe"
      },
      "execution_count": null,
      "outputs": [
        {
          "output_type": "stream",
          "name": "stdout",
          "text": [
            "Shape of Feature Matrix: (100, 2)\n",
            "Shape Label Vector: (100, 1)\n"
          ]
        }
      ]
    },
    {
      "cell_type": "code",
      "source": [
        "# Positive Data Points\n",
        "x_pos = np.array([x_orig[i] for i in range(len(x_orig))\n",
        "\t\t\t\t\t\t\t\t\tif y_orig[i] == 1])\n",
        "\n",
        "# Negative Data Points\n",
        "x_neg = np.array([x_orig[i] for i in range(len(x_orig))\n",
        "\t\t\t\t\t\t\t\t\tif y_orig[i] == 0])\n",
        "\n",
        "# Plotting the Positive Data Points\n",
        "plt.scatter(x_pos[:, 0], x_pos[:, 1], color = 'blue', label = 'Positive')\n",
        "\n",
        "# Plotting the Negative Data Points\n",
        "plt.scatter(x_neg[:, 0], x_neg[:, 1], color = 'red', label = 'Negative')\n",
        "\n",
        "plt.xlabel('Feature 1')\n",
        "plt.ylabel('Feature 2')\n",
        "plt.title('Plot of given data')\n",
        "plt.legend()\n",
        "\n",
        "plt.show()\n"
      ],
      "metadata": {
        "id": "3BRpfbaeg757",
        "colab": {
          "base_uri": "https://localhost:8080/",
          "height": 295
        },
        "outputId": "d35b24ea-620f-4cdd-8e8b-4d7d9631a05c"
      },
      "execution_count": null,
      "outputs": [
        {
          "output_type": "display_data",
          "data": {
            "text/plain": [
              "<Figure size 432x288 with 1 Axes>"
            ],
            "image/png": "[encoded data removed]"
          },
          "metadata": {
            "needs_background": "light"
          }
        }
      ]
    },
    {
      "cell_type": "code",
      "source": [
        "# Creating the One Hot Encoder\n",
        "oneHot = OneHotEncoder()\n",
        "\n",
        "# Encoding x_orig\n",
        "oneHot.fit(x_orig)\n",
        "x = oneHot.transform(x_orig).toarray()\n",
        "\n",
        "# Encoding y_orig\n",
        "oneHot.fit(y_orig)\n",
        "y = oneHot.transform(y_orig).toarray()\n",
        "\n",
        "alpha, epochs = 0.0035, 500\n",
        "m, n = x.shape\n",
        "print('m =', m)\n",
        "print('n =', n)\n",
        "print('Learning Rate =', alpha)\n",
        "print('Number of Epochs =', epochs)\n"
      ],
      "metadata": {
        "colab": {
          "base_uri": "https://localhost:8080/"
        },
        "id": "Rtwv17K_kcE5",
        "outputId": "09716ab2-8f4c-4a46-bfcc-3b6922d1b43f"
      },
      "execution_count": null,
      "outputs": [
        {
          "output_type": "stream",
          "name": "stdout",
          "text": [
            "m = 100\n",
            "n = 51\n",
            "Learning Rate = 0.0035\n",
            "Number of Epochs = 500\n"
          ]
        }
      ]
    },
    {
      "cell_type": "code",
      "source": [
        "tf.disable_v2_behavior() "
      ],
      "metadata": {
        "colab": {
          "base_uri": "https://localhost:8080/"
        },
        "id": "Ayh90Fxrkw1Z",
        "outputId": "004bea12-7ca1-4cce-fae5-49b375fd3337"
      },
      "execution_count": null,
      "outputs": [
        {
          "output_type": "stream",
          "name": "stdout",
          "text": [
            "WARNING:tensorflow:From /usr/local/lib/python3.7/dist-packages/tensorflow/python/compat/v2_compat.py:107: disable_resource_variables (from tensorflow.python.ops.variable_scope) is deprecated and will be removed in a future version.\n",
            "Instructions for updating:\n",
            "non-resource variables are not supported in the long term\n"
          ]
        }
      ]
    },
    {
      "cell_type": "code",
      "source": [
        "# There are n columns in the feature matrix\n",
        "# after One Hot Encoding.\n",
        "X = tf.placeholder(tf.float32, [None, n])\n",
        "\n",
        "# Since this is a binary classification problem,\n",
        "# Y can take only 2 values.\n",
        "Y = tf.placeholder(tf.float32, [None, 2])\n",
        "\n",
        "# Trainable Variable Weights\n",
        "W = tf.Variable(tf.zeros([n, 2]))\n",
        "\n",
        "# Trainable Variable Bias\n",
        "b = tf.Variable(tf.zeros([2]))\n"
      ],
      "metadata": {
        "id": "UXdvaYlykequ"
      },
      "execution_count": null,
      "outputs": []
    },
    {
      "cell_type": "code",
      "source": [
        "# Hypothesis\n",
        "Y_hat = tf.nn.sigmoid(tf.add(tf.matmul(X, W), b))\n",
        "\n",
        "# Sigmoid Cross Entropy Cost Function\n",
        "cost = tf.nn.sigmoid_cross_entropy_with_logits(\n",
        "\t\t\t\t\tlogits = Y_hat, labels = Y)\n",
        "\n",
        "# Gradient Descent Optimizer\n",
        "optimizer = tf.train.GradientDescentOptimizer(\n",
        "\t\tlearning_rate = alpha).minimize(cost)\n",
        "\n",
        "# Global Variables Initializer\n",
        "init = tf.global_variables_initializer()\n"
      ],
      "metadata": {
        "id": "aoqtL4Ggk2Ev"
      },
      "execution_count": null,
      "outputs": []
    },
    {
      "cell_type": "code",
      "source": [
        "# Starting the Tensorflow Session\n",
        "with tf.Session() as sess:\n",
        "\t\n",
        "\t# Initializing the Variables\n",
        "\tsess.run(init)\n",
        "\t\n",
        "\t# Lists for storing the changing Cost and Accuracy in every Epoch\n",
        "\tcost_history, accuracy_history = [], []\n",
        "\t\n",
        "\t# Iterating through all the epochs\n",
        "\tfor epoch in range(epochs):\n",
        "\t\tcost_per_epoch = 0\n",
        "\t\t\n",
        "\t\t# Running the Optimizer\n",
        "\t\tsess.run(optimizer, feed_dict = {X : x, Y : y})\n",
        "\t\t\n",
        "\t\t# Calculating cost on current Epoch\n",
        "\t\tc = sess.run(cost, feed_dict = {X : x, Y : y})\n",
        "\t\t\n",
        "\t\t# Calculating accuracy on current Epoch\n",
        "\t\tcorrect_prediction = tf.equal(tf.argmax(Y_hat, 1),\n",
        "\t\t\t\t\t\t\t\t\t\ttf.argmax(Y, 1))\n",
        "\t\taccuracy = tf.reduce_mean(tf.cast(correct_prediction,\n",
        "\t\t\t\t\t\t\t\t\t\t\t\ttf.float32))\n",
        "\t\t\n",
        "\t\t# Storing Cost and Accuracy to the history\n",
        "\t\tcost_history.append(sum(sum(c)))\n",
        "\t\taccuracy_history.append(accuracy.eval({X : x, Y : y}) * 100)\n",
        "\t\t\n",
        "\t\t# Displaying result on current Epoch\n",
        "\t\tif epoch % 100 == 0 and epoch != 0:\n",
        "\t\t\tprint(\"Epoch \" + str(epoch) + \" Cost: \"\n",
        "\t\t\t\t\t\t\t+ str(cost_history[-1]))\n",
        "\t\n",
        "\tWeight = sess.run(W) # Optimized Weight\n",
        "\tBias = sess.run(b) # Optimized Bias\n",
        "\t\n",
        "\t# Final Accuracy\n",
        "\tcorrect_prediction = tf.equal(tf.argmax(Y_hat, 1),\n",
        "\t\t\t\t\t\t\t\t\ttf.argmax(Y, 1))\n",
        "\taccuracy = tf.reduce_mean(tf.cast(correct_prediction,\n",
        "\t\t\t\t\t\t\t\t\t\t\ttf.float32))\n",
        "\tprint(\"\\nAccuracy:\", accuracy_history[-1], \"%\")\n"
      ],
      "metadata": {
        "colab": {
          "base_uri": "https://localhost:8080/"
        },
        "id": "aHFp4BNKk3de",
        "outputId": "6e4c4558-98a4-4f7a-e5b0-719d61c36c50"
      },
      "execution_count": null,
      "outputs": [
        {
          "output_type": "stream",
          "name": "stdout",
          "text": [
            "Epoch 100 Cost: 136.33413696289062\n",
            "Epoch 200 Cost: 132.68544006347656\n",
            "Epoch 300 Cost: 129.77123260498047\n",
            "Epoch 400 Cost: 127.2939567565918\n",
            "\n",
            "Accuracy: 87.00000047683716 %\n"
          ]
        }
      ]
    },
    {
      "cell_type": "code",
      "source": [
        "plt.plot(list(range(epochs)), cost_history)\n",
        "plt.xlabel('Epochs')\n",
        "plt.ylabel('Cost')\n",
        "plt.title('Decrease in Cost with Epochs')\n",
        "\n",
        "plt.show()\n"
      ],
      "metadata": {
        "colab": {
          "base_uri": "https://localhost:8080/",
          "height": 295
        },
        "id": "qjmrbTf1k8kG",
        "outputId": "c968deda-2af2-4759-f646-3438d3e42484"
      },
      "execution_count": null,
      "outputs": [
        {
          "output_type": "display_data",
          "data": {
            "text/plain": [
              "<Figure size 432x288 with 1 Axes>"
            ],
            "image/png": "[encoded data removed]"
          },
          "metadata": {
            "needs_background": "light"
          }
        }
      ]
    },
    {
      "cell_type": "code",
      "source": [
        "plt.plot(list(range(epochs)), accuracy_history)\n",
        "plt.xlabel('Epochs')\n",
        "plt.ylabel('Accuracy')\n",
        "plt.title('Increase in Accuracy with Epochs')\n",
        "\n",
        "plt.show()\n"
      ],
      "metadata": {
        "colab": {
          "base_uri": "https://localhost:8080/",
          "height": 295
        },
        "id": "dnA92KNPlDsG",
        "outputId": "11977a7f-f5ff-403a-a7a5-3a84fa109e06"
      },
      "execution_count": null,
      "outputs": [
        {
          "output_type": "display_data",
          "data": {
            "text/plain": [
              "<Figure size 432x288 with 1 Axes>"
            ],
            "image/png": "[encoded data removed]"
          },
          "metadata": {
            "needs_background": "light"
          }
        }
      ]
    },
    {
      "cell_type": "code",
      "source": [
        "# Calculating the Decision Boundary\n",
        "decision_boundary_x = np.array([np.min(x_orig[:, 0]),\n",
        "\t\t\t\t\t\t\tnp.max(x_orig[:, 0])])\n",
        "\n",
        "decision_boundary_y = (- 1.0 / Weight[0]) *(decision_boundary_x * Weight + Bias)\n",
        "\n",
        "decision_boundary_y = [sum(decision_boundary_y[:, 0]),\n",
        "\t\t\t\t\tsum(decision_boundary_y[:, 1])]\n",
        "\n",
        "# Positive Data Points\n",
        "x_pos = np.array([x_orig[i] for i in range(len(x_orig))\n",
        "\t\t\t\t\t\t\t\t\tif y_orig[i] == 1])\n",
        "\n",
        "# Negative Data Points\n",
        "x_neg = np.array([x_orig[i] for i in range(len(x_orig))\n",
        "\t\t\t\t\t\t\t\t\tif y_orig[i] == 0])\n",
        "\n",
        "# Plotting the Positive Data Points\n",
        "plt.scatter(x_pos[:, 0], x_pos[:, 1],\n",
        "color = 'blue', label = 'Positive')\n",
        "\n",
        "# Plotting the Negative Data Points\n",
        "plt.scatter(x_neg[:, 0], x_neg[:, 1],\n",
        "color = 'red', label = 'Negative')\n",
        "\n",
        "# Plotting the Decision Boundary\n",
        "plt.plot(decision_boundary_x, decision_boundary_y)\n",
        "plt.xlabel('Feature 1')\n",
        "plt.ylabel('Feature 2')\n",
        "plt.title('Plot of Decision Boundary')\n",
        "plt.legend()\n",
        "\n",
        "plt.show()\n"
      ],
      "metadata": {
        "colab": {
          "base_uri": "https://localhost:8080/",
          "height": 295
        },
        "id": "auoSkmejlIKu",
        "outputId": "39a98817-521a-4806-a1e2-a126ca07b851"
      },
      "execution_count": null,
      "outputs": [
        {
          "output_type": "display_data",
          "data": {
            "text/plain": [
              "<Figure size 432x288 with 1 Axes>"
            ],
            "image/png": "[encoded data removed]"
          },
          "metadata": {
            "needs_background": "light"
          }
        }
      ]
    },
    {
      "cell_type": "markdown",
      "source": [
        "# **2. Softmax_Regression**"
      ],
      "metadata": {
        "id": "wm4GXKue71wU"
      }
    },
    {
      "cell_type": "code",
      "execution_count": null,
      "metadata": {
        "id": "YF7idXaW1Pob"
      },
      "outputs": [],
      "source": [
        "import tensorflow as tf\n",
        "import numpy as np\n",
        "import matplotlib.pyplot as plt\n",
        "from tensorflow import keras\n",
        "import tensorflow.compat.v1 as tf"
      ]
    },
    {
      "cell_type": "code",
      "source": [
        "mnist = tf.keras.datasets.mnist\n",
        "(x_train, y_train), (x_test, y_test) = mnist.load_data()\n",
        "x_train, x_test = x_train/255.0, x_test/255.0"
      ],
      "metadata": {
        "id": "T2Ym0IBo1SO6"
      },
      "execution_count": null,
      "outputs": []
    },
    {
      "cell_type": "code",
      "source": [
        "print(\"Shape of Images: \", x_train.shape) \n",
        "print(\"Shape of Labels:\" , y_train.shape)\n",
        "\n",
        "fig,ax = plt.subplots(10,10) \n",
        "k = 0\n",
        "for i in range(10): \n",
        "\tfor j in range(10):\n",
        "\t\t\tax[i][j].imshow(x_train[k], aspect='auto') \n",
        "\t\t\tk += 1 \n",
        "plt.show()"
      ],
      "metadata": {
        "colab": {
          "base_uri": "https://localhost:8080/",
          "height": 304
        },
        "id": "qAWtuDVD94go",
        "outputId": "e3140782-8c2d-4d8c-b310-11896a1e683f"
      },
      "execution_count": null,
      "outputs": [
        {
          "output_type": "stream",
          "name": "stdout",
          "text": [
            "Shape of Images:  (60000, 28, 28)\n",
            "Shape of Labels: (60000,)\n"
          ]
        },
        {
          "output_type": "display_data",
          "data": {
            "text/plain": [
              "<Figure size 432x288 with 100 Axes>"
            ],
            "image/png": "[encoded data removed]"
          },
          "metadata": {
            "needs_background": "light"
          }
        }
      ]
    },
    {
      "cell_type": "code",
      "source": [
        "num_features = 784 #28*28\n",
        "num_labels = 10\n",
        "learning_rate = 0.001\n",
        "batch_size = 32\n",
        "training_epochs = 10\n",
        "display_step = 1\n"
      ],
      "metadata": {
        "id": "FnrGYSoqUVsr"
      },
      "execution_count": null,
      "outputs": []
    },
    {
      "cell_type": "code",
      "source": [
        "def to_onehot(y):\n",
        "  data = np.zeros((num_labels))\n",
        "  data[y] = 1\n",
        "  return data\n",
        "x_train = np.reshape(x_train,(-1, num_features))\n",
        "x_test = np.reshape(x_test,(-1, num_features))\n",
        "\n",
        "y_train = np.array([to_onehot(y) for y in y_train])\n",
        "y_test  = np.array([to_onehot(y) for y in y_test])\n"
      ],
      "metadata": {
        "id": "wWPq-1YOU0n7"
      },
      "execution_count": null,
      "outputs": []
    },
    {
      "cell_type": "code",
      "source": [
        "x_train.shape, y_train.shape"
      ],
      "metadata": {
        "colab": {
          "base_uri": "https://localhost:8080/"
        },
        "id": "FANOCVWBVdbq",
        "outputId": "0b822549-7a60-4be3-c4fd-9b0363f6d86a"
      },
      "execution_count": null,
      "outputs": [
        {
          "output_type": "execute_result",
          "data": {
            "text/plain": [
              "((60000, 784), (60000, 10))"
            ]
          },
          "metadata": {},
          "execution_count": 13
        }
      ]
    },
    {
      "cell_type": "code",
      "source": [
        "tf.disable_v2_behavior()"
      ],
      "metadata": {
        "colab": {
          "base_uri": "https://localhost:8080/"
        },
        "id": "Ac3yb4UOWSLC",
        "outputId": "c27b46e0-51f0-4b87-93ac-7353c72d4753"
      },
      "execution_count": null,
      "outputs": [
        {
          "output_type": "stream",
          "name": "stdout",
          "text": [
            "WARNING:tensorflow:From /usr/local/lib/python3.7/dist-packages/tensorflow/python/compat/v2_compat.py:107: disable_resource_variables (from tensorflow.python.ops.variable_scope) is deprecated and will be removed in a future version.\n",
            "Instructions for updating:\n",
            "non-resource variables are not supported in the long term\n"
          ]
        }
      ]
    },
    {
      "cell_type": "code",
      "source": [
        "x = tf.placeholder(tf.float32, shape=[None, num_features]) \n",
        "y = tf.placeholder(tf.float32, shape=[None, num_labels])"
      ],
      "metadata": {
        "id": "MsYpGMtXVhpr"
      },
      "execution_count": null,
      "outputs": []
    },
    {
      "cell_type": "code",
      "source": [
        "#\tWeight\n",
        "w = tf.Variable(tf.zeros([num_features, num_labels]))\n",
        "#\tBias\n",
        "b = tf.Variable(tf.zeros([num_labels]))"
      ],
      "metadata": {
        "id": "GkygebGQWh6B"
      },
      "execution_count": null,
      "outputs": []
    },
    {
      "cell_type": "code",
      "source": [
        "#\tConstruct model\n",
        "pred = tf.nn.softmax(tf.matmul(x, w) + b) # Softmax\n",
        "#\tMinimize error using cross entropy\n",
        "cost = tf.reduce_mean(-tf.reduce_sum(y*tf.log(pred), reduction_indices=1))\n",
        "#\tGradient Descent\n",
        "optimizer = tf.train.GradientDescentOptimizer(learning_rate).minimize(cost)"
      ],
      "metadata": {
        "id": "-OpYaJpFWxVp"
      },
      "execution_count": null,
      "outputs": []
    },
    {
      "cell_type": "code",
      "source": [
        "# Initialize the variables (i.e. assign their default value) \n",
        "init = tf.global_variables_initializer()"
      ],
      "metadata": {
        "id": "add_PBgBXaTi"
      },
      "execution_count": null,
      "outputs": []
    },
    {
      "cell_type": "code",
      "source": [
        "def accuracy(predictions, labels):\n",
        "  correctly_predicted = np.sum(np.argmax(predictions, 1) == np.argmax(labels, 1))\n",
        "  acc = (100.0 * correctly_predicted) / predictions.shape[0] \n",
        "  return acc"
      ],
      "metadata": {
        "id": "VKS1Tr62XkgB"
      },
      "execution_count": null,
      "outputs": []
    },
    {
      "cell_type": "code",
      "source": [
        "with tf.Session() as sess:\n",
        "  #\tRun the initializer sess.run(init)\n",
        "  sess.run(init)\n",
        "\n",
        "  #\tTraining cycle\n",
        "  for epoch in range(training_epochs):\n",
        "    avg_cost = 0.0 \n",
        "    avg_acc = 0.0\n",
        "    total_batch = len(x_train)//batch_size\n",
        "    \n",
        "    for i in range(total_batch):\n",
        "      batch_x = x_train[i:i+1*batch_size] \n",
        "      batch_y = y_train[i:i+1*batch_size]\n",
        "  \n",
        "      _, c = sess.run([optimizer, cost], feed_dict={x: batch_x, y: batch_y}) \n",
        "      avg_cost += c/total_batch\n",
        "\n",
        "      pred_y = sess.run(pred, feed_dict={x: batch_x}) \n",
        "      acc = accuracy(pred_y, batch_y) \n",
        "      avg_acc += acc/total_batch\n",
        "  \n",
        "    if (epoch+1) % display_step == 0:\n",
        "      tc = sess.run(cost, feed_dict={x: x_test, y: y_test}) \n",
        "      pred_y = sess.run(pred, feed_dict={x: x_test}) \n",
        "      ta = accuracy(pred_y, y_test)\n",
        "\n",
        "      print(\"Epoch: {:2.0f} - Cost: {: 1.5f} - Acc: {:0.5f} - Test Cost: {:0.5f} - Test acc:{:0.5f}\".format(\n",
        "          epoch+1, avg_cost, avg_acc, tc,ta))\n",
        "  print(\"Optimization Finshed\")\n",
        "\n",
        "  #test model\n",
        "  correctly_prediction = tf.equal(tf.argmax(pred,1), tf.argmax(y,1))\n",
        "  #caculate accuracy\n",
        "  acc = tf.reduce_mean(tf.cast(correctly_prediction, tf.float32))\n",
        "  print(\"Test Accuracy:\", acc.eval({x:x_test, y: y_test}))"
      ],
      "metadata": {
        "colab": {
          "base_uri": "https://localhost:8080/"
        },
        "id": "8V_HMTyPYIty",
        "outputId": "dfb14f1e-d396-4805-bdfb-d56abb17bd37"
      },
      "execution_count": null,
      "outputs": [
        {
          "output_type": "stream",
          "name": "stdout",
          "text": [
            "Epoch:  1 - Cost:  1.62461 - Acc: 73.62000 - Test Cost: 1.23438 - Test acc:77.73000\n",
            "Epoch:  2 - Cost:  1.00996 - Acc: 83.20833 - Test Cost: 0.91878 - Test acc:81.09000\n",
            "Epoch:  3 - Cost:  0.79427 - Acc: 84.88667 - Test Cost: 0.77765 - Test acc:82.72000\n",
            "Epoch:  4 - Cost:  0.68457 - Acc: 86.03833 - Test Cost: 0.69650 - Test acc:83.87000\n",
            "Epoch:  5 - Cost:  0.61639 - Acc: 87.03833 - Test Cost: 0.64296 - Test acc:84.66000\n",
            "Epoch:  6 - Cost:  0.56889 - Acc: 87.69000 - Test Cost: 0.60460 - Test acc:85.15000\n",
            "Epoch:  7 - Cost:  0.53331 - Acc: 88.29500 - Test Cost: 0.57556 - Test acc:85.52000\n",
            "Epoch:  8 - Cost:  0.50531 - Acc: 88.73500 - Test Cost: 0.55271 - Test acc:85.98000\n",
            "Epoch:  9 - Cost:  0.48247 - Acc: 89.14667 - Test Cost: 0.53422 - Test acc:86.29000\n",
            "Epoch: 10 - Cost:  0.46332 - Acc: 89.40000 - Test Cost: 0.51892 - Test acc:86.49000\n",
            "Optimization Finshed\n",
            "Test Accuracy: 0.8649\n"
          ]
        }
      ]
    },
    {
      "cell_type": "markdown",
      "source": [
        "# **3. Linear_Regression**"
      ],
      "metadata": {
        "id": "xR2mHPXmAIYK"
      }
    },
    {
      "cell_type": "code",
      "execution_count": null,
      "metadata": {
        "id": "C6XpKdsAC4vp"
      },
      "outputs": [],
      "source": [
        "import tensorflow as tf\n",
        "import numpy as np\n",
        "import time\n",
        "import matplotlib.pyplot as plt\n",
        "import imageio\n",
        "import tensorflow.compat.v1 as tf"
      ]
    },
    {
      "cell_type": "code",
      "source": [
        "tf.disable_v2_behavior()"
      ],
      "metadata": {
        "id": "0aYmkbz4C6Gp"
      },
      "execution_count": null,
      "outputs": []
    },
    {
      "cell_type": "code",
      "source": [
        "x = np.arange(0, 1, 0.01)\n",
        "y = np.arange(2, 4, 0.02) + np.random.randn(x.shape[0],) * 0.2"
      ],
      "metadata": {
        "id": "M8xy3We5C7fs"
      },
      "execution_count": null,
      "outputs": []
    },
    {
      "cell_type": "code",
      "source": [
        "x_train = tf.constant(x, dtype=np.float32, shape=[x.shape[0], 1])\n",
        "y_train = tf.constant(y, dtype=np.float32, shape=[x.shape[0], 1])\n",
        "with tf.compat.v1.variable_scope(\"foo\"):\n",
        "    weights = tf.compat.v1.get_variable(\"weights\", [1, 1],\n",
        "                    initializer=tf.random_normal_initializer())\n",
        "    biases = tf.compat.v1.get_variable(\"biases\", [1, 1],\n",
        "                    initializer=tf.constant_initializer(0.0))"
      ],
      "metadata": {
        "id": "ZGKcYKSADIRl"
      },
      "execution_count": null,
      "outputs": []
    },
    {
      "cell_type": "code",
      "source": [
        "y_hat = tf.add(tf.matmul(x_train, weights), biases)"
      ],
      "metadata": {
        "id": "szdadypMDJmz"
      },
      "execution_count": null,
      "outputs": []
    },
    {
      "cell_type": "code",
      "source": [
        "loss = tf.reduce_mean(tf.square(y_hat - y_train))\n",
        "optimizer = tf.compat.v1.train.GradientDescentOptimizer(0.1)\n",
        "train = optimizer.minimize(loss)"
      ],
      "metadata": {
        "id": "TRLJLziTg9vR"
      },
      "execution_count": null,
      "outputs": []
    },
    {
      "cell_type": "code",
      "source": [
        "init_op = tf.global_variables_initializer()\n",
        "with tf.Session() as sess:\n",
        "    sess.run(init_op)\n",
        "    for i in range(200):\n",
        "        _, loss_value = sess.run((train, loss))\n",
        "        if i % 5 == 0:\n",
        "            print(loss_value)\n"
      ],
      "metadata": {
        "colab": {
          "base_uri": "https://localhost:8080/"
        },
        "id": "2eACxVcek3sw",
        "outputId": "a738a9b5-7755-45a0-ff87-45a0ca62b1c3"
      },
      "execution_count": null,
      "outputs": [
        {
          "output_type": "stream",
          "name": "stdout",
          "text": [
            "13.619918\n",
            "1.0001183\n",
            "0.28546008\n",
            "0.2228465\n",
            "0.19870715\n",
            "0.17924358\n",
            "0.16229324\n",
            "0.14745718\n",
            "0.13446769\n",
            "0.123094656\n",
            "0.11313694\n",
            "0.104418375\n",
            "0.0967848\n",
            "0.090101175\n",
            "0.084249236\n",
            "0.07912558\n",
            "0.07463954\n",
            "0.07071174\n",
            "0.06727271\n",
            "0.06426167\n",
            "0.061625328\n",
            "0.059317067\n",
            "0.05729604\n",
            "0.055526517\n",
            "0.053977206\n",
            "0.0526207\n",
            "0.051433004\n",
            "0.050393116\n",
            "0.049482632\n",
            "0.048685435\n",
            "0.047987465\n",
            "0.04737634\n",
            "0.046841275\n",
            "0.046372786\n",
            "0.045962602\n",
            "0.04560347\n",
            "0.04528902\n",
            "0.045013696\n",
            "0.044772655\n",
            "0.04456159\n"
          ]
        }
      ]
    }
  ]
}