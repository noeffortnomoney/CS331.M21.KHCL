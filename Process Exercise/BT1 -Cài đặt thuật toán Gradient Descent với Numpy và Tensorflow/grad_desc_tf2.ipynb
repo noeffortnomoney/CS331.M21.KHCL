{
  "nbformat": 4,
  "nbformat_minor": 0,
  "metadata": {
    "colab": {
      "name": "grad_desc_tf2.ipynb",
      "provenance": []
    },
    "kernelspec": {
      "name": "python3",
      "display_name": "Python 3"
    },
    "language_info": {
      "name": "python"
    }
  },
  "cells": [
    {
      "cell_type": "markdown",
      "source": [
        "Họ và tên: Trương Quốc Bình\n",
        "\n",
        "MSSV: 19521270\n",
        "\n",
        "CÀI ĐẶT THUẬT TOÁN GRADIENT DESCENT BẰNG TENSORFLOW"
      ],
      "metadata": {
        "id": "Pqj71KYIkdqb"
      }
    },
    {
      "cell_type": "code",
      "execution_count": 1,
      "metadata": {
        "id": "7r-LQBVniThD"
      },
      "outputs": [],
      "source": [
        "import numpy as np\n",
        "import tensorflow as tf"
      ]
    },
    {
      "cell_type": "code",
      "source": [
        "theta=tf.Variable(-4.0) #theta la bien so va se duoc cap nhat trong qua trinh huan luyen\n",
        "#loss = lambda : theta**2 - 4*theta + 10 #(theta-2)^2+6\n",
        "eps = 0.0001\n"
      ],
      "metadata": {
        "id": "0UXSZMHiijib"
      },
      "execution_count": 10,
      "outputs": []
    },
    {
      "cell_type": "code",
      "source": [
        "@tf.function\n",
        "def Loss(theta):\n",
        "   return theta**2 - 4*theta + 10 #(theta-2)^2+6"
      ],
      "metadata": {
        "id": "Wi8myf3KlPFT"
      },
      "execution_count": 11,
      "outputs": []
    },
    {
      "cell_type": "code",
      "source": [
        "opt = tf.keras.optimizers.SGD(learning_rate=0.1)"
      ],
      "metadata": {
        "id": "Bm6-Ggh8jAd0"
      },
      "execution_count": 12,
      "outputs": []
    },
    {
      "cell_type": "code",
      "source": [
        "while True:\n",
        "  with tf.GradientTape() as tape:\n",
        "    loss = Loss(theta)\n",
        "    print(loss)\n",
        "  grads = tape.gradient(loss, [theta])\n",
        "  print(grads)\n",
        "  #cap nhat tham gia theta\n",
        "  opt.apply_gradients(zip(grads, [theta]))\n",
        "  #kiem tra xem khi nao dung\n",
        "  if abs(grads[0].numpy()) <eps:\n",
        "    break\n"
      ],
      "metadata": {
        "id": "swqCJ4XEjN-v",
        "colab": {
          "base_uri": "https://localhost:8080/"
        },
        "outputId": "4daaba4c-7ff1-46dc-ba6d-ecb5512fb567"
      },
      "execution_count": 13,
      "outputs": [
        {
          "output_type": "stream",
          "name": "stdout",
          "text": [
            "tf.Tensor(42.0, shape=(), dtype=float32)\n",
            "[<tf.Tensor: shape=(), dtype=float32, numpy=-12.0>]\n",
            "tf.Tensor(29.04, shape=(), dtype=float32)\n",
            "[<tf.Tensor: shape=(), dtype=float32, numpy=-9.6>]\n",
            "tf.Tensor(20.7456, shape=(), dtype=float32)\n",
            "[<tf.Tensor: shape=(), dtype=float32, numpy=-7.68>]\n",
            "tf.Tensor(15.437183, shape=(), dtype=float32)\n",
            "[<tf.Tensor: shape=(), dtype=float32, numpy=-6.144>]\n",
            "tf.Tensor(12.039797, shape=(), dtype=float32)\n",
            "[<tf.Tensor: shape=(), dtype=float32, numpy=-4.9151998>]\n",
            "tf.Tensor(9.86547, shape=(), dtype=float32)\n",
            "[<tf.Tensor: shape=(), dtype=float32, numpy=-3.93216>]\n",
            "tf.Tensor(8.473901, shape=(), dtype=float32)\n",
            "[<tf.Tensor: shape=(), dtype=float32, numpy=-3.1457279>]\n",
            "tf.Tensor(7.583297, shape=(), dtype=float32)\n",
            "[<tf.Tensor: shape=(), dtype=float32, numpy=-2.5165823>]\n",
            "tf.Tensor(7.01331, shape=(), dtype=float32)\n",
            "[<tf.Tensor: shape=(), dtype=float32, numpy=-2.0132658>]\n",
            "tf.Tensor(6.648518, shape=(), dtype=float32)\n",
            "[<tf.Tensor: shape=(), dtype=float32, numpy=-1.6106126>]\n",
            "tf.Tensor(6.4150515, shape=(), dtype=float32)\n",
            "[<tf.Tensor: shape=(), dtype=float32, numpy=-1.28849>]\n",
            "tf.Tensor(6.265633, shape=(), dtype=float32)\n",
            "[<tf.Tensor: shape=(), dtype=float32, numpy=-1.030792>]\n",
            "tf.Tensor(6.170005, shape=(), dtype=float32)\n",
            "[<tf.Tensor: shape=(), dtype=float32, numpy=-0.8246336>]\n",
            "tf.Tensor(6.1088033, shape=(), dtype=float32)\n",
            "[<tf.Tensor: shape=(), dtype=float32, numpy=-0.65970683>]\n",
            "tf.Tensor(6.0696344, shape=(), dtype=float32)\n",
            "[<tf.Tensor: shape=(), dtype=float32, numpy=-0.5277655>]\n",
            "tf.Tensor(6.044566, shape=(), dtype=float32)\n",
            "[<tf.Tensor: shape=(), dtype=float32, numpy=-0.42221236>]\n",
            "tf.Tensor(6.0285225, shape=(), dtype=float32)\n",
            "[<tf.Tensor: shape=(), dtype=float32, numpy=-0.33777>]\n",
            "tf.Tensor(6.0182543, shape=(), dtype=float32)\n",
            "[<tf.Tensor: shape=(), dtype=float32, numpy=-0.270216>]\n",
            "tf.Tensor(6.0116825, shape=(), dtype=float32)\n",
            "[<tf.Tensor: shape=(), dtype=float32, numpy=-0.2161727>]\n",
            "tf.Tensor(6.007477, shape=(), dtype=float32)\n",
            "[<tf.Tensor: shape=(), dtype=float32, numpy=-0.17293811>]\n",
            "tf.Tensor(6.0047855, shape=(), dtype=float32)\n",
            "[<tf.Tensor: shape=(), dtype=float32, numpy=-0.13835049>]\n",
            "tf.Tensor(6.0030622, shape=(), dtype=float32)\n",
            "[<tf.Tensor: shape=(), dtype=float32, numpy=-0.11068034>]\n",
            "tf.Tensor(6.00196, shape=(), dtype=float32)\n",
            "[<tf.Tensor: shape=(), dtype=float32, numpy=-0.08854437>]\n",
            "tf.Tensor(6.001254, shape=(), dtype=float32)\n",
            "[<tf.Tensor: shape=(), dtype=float32, numpy=-0.07083559>]\n",
            "tf.Tensor(6.000803, shape=(), dtype=float32)\n",
            "[<tf.Tensor: shape=(), dtype=float32, numpy=-0.05666852>]\n",
            "tf.Tensor(6.000514, shape=(), dtype=float32)\n",
            "[<tf.Tensor: shape=(), dtype=float32, numpy=-0.045334816>]\n",
            "tf.Tensor(6.000329, shape=(), dtype=float32)\n",
            "[<tf.Tensor: shape=(), dtype=float32, numpy=-0.036267757>]\n",
            "tf.Tensor(6.000211, shape=(), dtype=float32)\n",
            "[<tf.Tensor: shape=(), dtype=float32, numpy=-0.02901411>]\n",
            "tf.Tensor(6.0001345, shape=(), dtype=float32)\n",
            "[<tf.Tensor: shape=(), dtype=float32, numpy=-0.02321124>]\n",
            "tf.Tensor(6.0000863, shape=(), dtype=float32)\n",
            "[<tf.Tensor: shape=(), dtype=float32, numpy=-0.018568993>]\n",
            "tf.Tensor(6.0000553, shape=(), dtype=float32)\n",
            "[<tf.Tensor: shape=(), dtype=float32, numpy=-0.014855146>]\n",
            "tf.Tensor(6.0000353, shape=(), dtype=float32)\n",
            "[<tf.Tensor: shape=(), dtype=float32, numpy=-0.0118842125>]\n",
            "tf.Tensor(6.000023, shape=(), dtype=float32)\n",
            "[<tf.Tensor: shape=(), dtype=float32, numpy=-0.009507418>]\n",
            "tf.Tensor(6.0000143, shape=(), dtype=float32)\n",
            "[<tf.Tensor: shape=(), dtype=float32, numpy=-0.0076060295>]\n",
            "tf.Tensor(6.0000095, shape=(), dtype=float32)\n",
            "[<tf.Tensor: shape=(), dtype=float32, numpy=-0.006084919>]\n",
            "tf.Tensor(6.0000057, shape=(), dtype=float32)\n",
            "[<tf.Tensor: shape=(), dtype=float32, numpy=-0.0048680305>]\n",
            "tf.Tensor(6.000004, shape=(), dtype=float32)\n",
            "[<tf.Tensor: shape=(), dtype=float32, numpy=-0.003894329>]\n",
            "tf.Tensor(6.0000024, shape=(), dtype=float32)\n",
            "[<tf.Tensor: shape=(), dtype=float32, numpy=-0.0031154156>]\n",
            "tf.Tensor(6.000002, shape=(), dtype=float32)\n",
            "[<tf.Tensor: shape=(), dtype=float32, numpy=-0.0024924278>]\n",
            "tf.Tensor(6.000001, shape=(), dtype=float32)\n",
            "[<tf.Tensor: shape=(), dtype=float32, numpy=-0.0019938946>]\n",
            "tf.Tensor(6.000001, shape=(), dtype=float32)\n",
            "[<tf.Tensor: shape=(), dtype=float32, numpy=-0.0015950203>]\n",
            "tf.Tensor(6.0000005, shape=(), dtype=float32)\n",
            "[<tf.Tensor: shape=(), dtype=float32, numpy=-0.0012760162>]\n",
            "tf.Tensor(6.0, shape=(), dtype=float32)\n",
            "[<tf.Tensor: shape=(), dtype=float32, numpy=-0.0010209084>]\n",
            "tf.Tensor(6.0, shape=(), dtype=float32)\n",
            "[<tf.Tensor: shape=(), dtype=float32, numpy=-0.00081682205>]\n",
            "tf.Tensor(6.0, shape=(), dtype=float32)\n",
            "[<tf.Tensor: shape=(), dtype=float32, numpy=-0.0006535053>]\n",
            "tf.Tensor(6.0, shape=(), dtype=float32)\n",
            "[<tf.Tensor: shape=(), dtype=float32, numpy=-0.00052285194>]\n",
            "tf.Tensor(6.0, shape=(), dtype=float32)\n",
            "[<tf.Tensor: shape=(), dtype=float32, numpy=-0.0004181862>]\n",
            "tf.Tensor(6.0, shape=(), dtype=float32)\n",
            "[<tf.Tensor: shape=(), dtype=float32, numpy=-0.00033450127>]\n",
            "tf.Tensor(6.0, shape=(), dtype=float32)\n",
            "[<tf.Tensor: shape=(), dtype=float32, numpy=-0.00026750565>]\n",
            "tf.Tensor(6.0, shape=(), dtype=float32)\n",
            "[<tf.Tensor: shape=(), dtype=float32, numpy=-0.00021409988>]\n",
            "tf.Tensor(6.0, shape=(), dtype=float32)\n",
            "[<tf.Tensor: shape=(), dtype=float32, numpy=-0.00017118454>]\n",
            "tf.Tensor(6.0, shape=(), dtype=float32)\n",
            "[<tf.Tensor: shape=(), dtype=float32, numpy=-0.00013685226>]\n",
            "tf.Tensor(6.0, shape=(), dtype=float32)\n",
            "[<tf.Tensor: shape=(), dtype=float32, numpy=-0.00010943413>]\n",
            "tf.Tensor(6.0, shape=(), dtype=float32)\n",
            "[<tf.Tensor: shape=(), dtype=float32, numpy=-8.749962e-05>]\n"
          ]
        }
      ]
    },
    {
      "cell_type": "code",
      "source": [
        "print(\"theta toi uu: \", theta.numpy())\n",
        "print(\"Gia tri nho nhat cua ham loss: \", loss.numpy())"
      ],
      "metadata": {
        "colab": {
          "base_uri": "https://localhost:8080/"
        },
        "id": "iP3J05-DjV6O",
        "outputId": "a7f1f12c-2927-4c12-f426-8230fd1ad95e"
      },
      "execution_count": 16,
      "outputs": [
        {
          "output_type": "stream",
          "name": "stdout",
          "text": [
            "theta toi uu:  1.999965\n",
            "Gia tri nho nhat cua ham loss:  6.0\n"
          ]
        }
      ]
    }
  ]
}